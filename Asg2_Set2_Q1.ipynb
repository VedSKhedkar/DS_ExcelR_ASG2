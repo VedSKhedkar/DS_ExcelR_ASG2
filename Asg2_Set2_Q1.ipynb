{
  "nbformat": 4,
  "nbformat_minor": 0,
  "metadata": {
    "colab": {
      "provenance": []
    },
    "kernelspec": {
      "name": "python3",
      "display_name": "Python 3"
    },
    "language_info": {
      "name": "python"
    }
  },
  "cells": [
    {
      "cell_type": "markdown",
      "source": [
        "VED KHEDKAR "
      ],
      "metadata": {
        "id": "OK6gah4Ou64k"
      }
    },
    {
      "cell_type": "code",
      "execution_count": null,
      "metadata": {
        "colab": {
          "base_uri": "https://localhost:8080/",
          "height": 404
        },
        "id": "fZ2NOi-bt2bu",
        "outputId": "6345fb26-a491-468d-a2bf-d14cb58c789e"
      },
      "outputs": [
        {
          "output_type": "execute_result",
          "data": {
            "text/plain": [
              "{'boxes': [<matplotlib.lines.Line2D at 0x7f5726a00090>],\n",
              " 'caps': [<matplotlib.lines.Line2D at 0x7f5726a090d0>,\n",
              "  <matplotlib.lines.Line2D at 0x7f5726a09610>],\n",
              " 'fliers': [<matplotlib.lines.Line2D at 0x7f5726a11110>],\n",
              " 'means': [],\n",
              " 'medians': [<matplotlib.lines.Line2D at 0x7f5726a09b90>],\n",
              " 'whiskers': [<matplotlib.lines.Line2D at 0x7f5726a00610>,\n",
              "  <matplotlib.lines.Line2D at 0x7f5726a00b50>]}"
            ]
          },
          "metadata": {},
          "execution_count": 6
        },
        {
          "output_type": "display_data",
          "data": {
            "text/plain": [
              "<Figure size 432x288 with 1 Axes>"
            ],
            "image/png": "[encoded data removed]"
          },
          "metadata": {
            "needs_background": "light"
          }
        }
      ],
      "source": [
        "from matplotlib import pyplot as plt\n",
        "companies_percentage = [24.23,25.53,25.41,24.14,29.62,28.25,25.81,24.39,40.26,32.95,91.36,25.99,39.42,26.71,35.00]\n",
        "\n",
        "plt.boxplot(companies_percentage)"
      ]
    },
    {
      "cell_type": "code",
      "source": [
        "import pandas as pd\n",
        "from scipy import stats \n",
        "from scipy.stats import norm\n",
        "import numpy as np"
      ],
      "metadata": {
        "id": "RoXfShZEy0y2"
      },
      "execution_count": null,
      "outputs": []
    },
    {
      "cell_type": "code",
      "source": [
        "variance = np.var(companies_percentage)\n",
        "variance"
      ],
      "metadata": {
        "colab": {
          "base_uri": "https://localhost:8080/"
        },
        "id": "tUfEqaBzzZ5b",
        "outputId": "88f7640c-4fca-4f6a-df26-8489f41ff8a8"
      },
      "execution_count": null,
      "outputs": [
        {
          "output_type": "execute_result",
          "data": {
            "text/plain": [
              "268.00350488888887"
            ]
          },
          "metadata": {},
          "execution_count": 12
        }
      ]
    },
    {
      "cell_type": "code",
      "source": [
        "mean = np.mean(companies_percentage)\n",
        "mean"
      ],
      "metadata": {
        "colab": {
          "base_uri": "https://localhost:8080/"
        },
        "id": "keyPTr681AOf",
        "outputId": "300ab61e-df65-4c90-9682-aa62c4866bc8"
      },
      "execution_count": null,
      "outputs": [
        {
          "output_type": "execute_result",
          "data": {
            "text/plain": [
              "33.27133333333333"
            ]
          },
          "metadata": {},
          "execution_count": 14
        }
      ]
    },
    {
      "cell_type": "code",
      "source": [
        "standard_deviation = np.std(companies_percentage)\n",
        "standard_deviation"
      ],
      "metadata": {
        "colab": {
          "base_uri": "https://localhost:8080/"
        },
        "id": "zyOz42cz1LB6",
        "outputId": "7fac630c-ba0b-47ab-c493-2bb0ed781888"
      },
      "execution_count": null,
      "outputs": [
        {
          "output_type": "execute_result",
          "data": {
            "text/plain": [
              "16.370812590976932"
            ]
          },
          "metadata": {},
          "execution_count": 15
        }
      ]
    }
  ]
}